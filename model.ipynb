{
  "nbformat": 4,
  "nbformat_minor": 2,
  "metadata": {
    "kernelspec": {
      "name": "python3",
      "display_name": "Python 3.9.1 64-bit"
    },
    "language_info": {
      "name": "python",
      "version": "3.9.1",
      "mimetype": "text/x-python",
      "codemirror_mode": {
        "name": "ipython",
        "version": 3
      },
      "pygments_lexer": "ipython3",
      "nbconvert_exporter": "python",
      "file_extension": ".py"
    },
    "colab": {
      "name": "notebook2bfee98e72 (1).ipynb",
      "provenance": [],
      "collapsed_sections": []
    },
    "interpreter": {
      "hash": "e7b594ee360944382cce92ff51bae0a1a7b35bc125414f552f367fb3bebfb3c4"
    }
  },
  "cells": [
    {
      "cell_type": "code",
      "execution_count": null,
      "source": [
        "import numpy as np # linear algebra\r\n",
        "import pandas as pd # data processing, CSV file I/O (e.g. pd.read_csv)\r\n",
        "import matplotlib.pyplot as plt\r\n",
        "\r\n",
        "import tensorflow as tf\r\n",
        "from keras_preprocessing.image import ImageDataGenerator\r\n",
        "import os\r\n",
        "\r\n",
        "import pickle"
      ],
      "outputs": [],
      "metadata": {
        "execution": {
          "iopub.status.busy": "2021-10-03T15:29:57.713022Z",
          "iopub.execute_input": "2021-10-03T15:29:57.713274Z",
          "iopub.status.idle": "2021-10-03T15:30:02.723524Z",
          "shell.execute_reply.started": "2021-10-03T15:29:57.713247Z",
          "shell.execute_reply": "2021-10-03T15:30:02.722795Z"
        },
        "trusted": true,
        "id": "eN4BkvkN0EC1"
      }
    },
    {
      "cell_type": "code",
      "execution_count": null,
      "source": [
        "path = '../input/3charms' #will need to be changed"
      ],
      "outputs": [],
      "metadata": {
        "execution": {
          "iopub.status.busy": "2021-10-03T15:30:02.725090Z",
          "iopub.execute_input": "2021-10-03T15:30:02.725315Z",
          "iopub.status.idle": "2021-10-03T15:30:02.731519Z",
          "shell.execute_reply.started": "2021-10-03T15:30:02.725291Z",
          "shell.execute_reply": "2021-10-03T15:30:02.730935Z"
        },
        "trusted": true,
        "id": "WA4KzRAl0EC3"
      }
    },
    {
      "cell_type": "code",
      "execution_count": null,
      "source": [
        "batch_size = 100\r\n",
        "\r\n",
        "train_datagen = ImageDataGenerator(rescale=1./255, validation_split=0.2,\r\n",
        "                                   rotation_range=40, horizontal_flip=True,\r\n",
        "                                   fill_mode='nearest')\r\n",
        "\r\n",
        "train_gen = train_datagen.flow_from_directory(path, target_size=(150,150),\r\n",
        "                    class_mode='categorical', batch_size=batch_size, \r\n",
        "                                              subset='training')\r\n",
        "\r\n",
        "val_gen = train_datagen.flow_from_directory(path, target_size=(150,150),\r\n",
        "                class_mode='categorical', batch_size=batch_size,\r\n",
        "                                            subset='validation')"
      ],
      "outputs": [
        {
          "output_type": "error",
          "ename": "NameError",
          "evalue": "ignored",
          "traceback": [
            "\u001b[0;31m---------------------------------------------------------------------------\u001b[0m",
            "\u001b[0;31mNameError\u001b[0m                                 Traceback (most recent call last)",
            "\u001b[0;32m<ipython-input-7-b58b0b4c4362>\u001b[0m in \u001b[0;36m<module>\u001b[0;34m()\u001b[0m\n\u001b[1;32m      1\u001b[0m \u001b[0mbatch_size\u001b[0m \u001b[0;34m=\u001b[0m \u001b[0;36m100\u001b[0m\u001b[0;34m\u001b[0m\u001b[0;34m\u001b[0m\u001b[0m\n\u001b[1;32m      2\u001b[0m \u001b[0;34m\u001b[0m\u001b[0m\n\u001b[0;32m----> 3\u001b[0;31m train_datagen = ImageDataGenerator(rescale=1./255, validation_split=0.2,\n\u001b[0m\u001b[1;32m      4\u001b[0m                                    \u001b[0mrotation_range\u001b[0m\u001b[0;34m=\u001b[0m\u001b[0;36m40\u001b[0m\u001b[0;34m,\u001b[0m \u001b[0mhorizontal_flip\u001b[0m\u001b[0;34m=\u001b[0m\u001b[0;32mTrue\u001b[0m\u001b[0;34m,\u001b[0m\u001b[0;34m\u001b[0m\u001b[0;34m\u001b[0m\u001b[0m\n\u001b[1;32m      5\u001b[0m                                    fill_mode='nearest')\n",
            "\u001b[0;31mNameError\u001b[0m: name 'ImageDataGenerator' is not defined"
          ]
        }
      ],
      "metadata": {
        "execution": {
          "iopub.status.busy": "2021-10-03T15:30:02.732567Z",
          "iopub.execute_input": "2021-10-03T15:30:02.733025Z",
          "iopub.status.idle": "2021-10-03T15:30:03.062831Z",
          "shell.execute_reply.started": "2021-10-03T15:30:02.732997Z",
          "shell.execute_reply": "2021-10-03T15:30:03.062095Z"
        },
        "trusted": true,
        "colab": {
          "base_uri": "https://localhost:8080/",
          "height": 235
        },
        "id": "CaUPpwWT0EC4",
        "outputId": "fb995b4a-f7b0-4f6d-ae16-3df2d8553cc7"
      }
    },
    {
      "cell_type": "code",
      "execution_count": null,
      "source": [
        "labels = ['Rice Leaf Roller', 'rice Leaf Caterpillar', 'paddy stem maggot', 'asiatic rice borer',\r\n",
        "'yellow rice borer',\r\n",
        "'rice gall midge',\r\n",
        "'Rice Stemfly',\r\n",
        "'brown plant hopper',\r\n",
        "'white backed plant hopper',\r\n",
        "'small brown plant hopper',\r\n",
        "'rice water weevil',\r\n",
        "'rice leafhopper',\r\n",
        "'grain spreader thrips',\r\n",
        "'rice shell pest',\r\n",
        "'grub',\r\n",
        "'mole cricket',\r\n",
        "'wireworm',\r\n",
        "'white margined moth',\r\n",
        "'black cutworm',\r\n",
        "'large cutworm',\r\n",
        "'yellow cutworm',\r\n",
        "'red spider',\r\n",
        "'corn borer',\r\n",
        "'army worm',\r\n",
        "'aphid']\r\n",
        "\r\n",
        "'''\r\n",
        "for i in range(15):\r\n",
        "    if i%5==0:\r\n",
        "        fig, ax = plt.subplots(ncols=5, figsize=(15,15))\r\n",
        "    img, lbl = train_gen.next()\r\n",
        "    ax[i%5].imshow(img[2])\r\n",
        "    ax[i%5].set_title(labels[np.argmax(lbl[2])])\r\n",
        "    ax[i%5].grid(False)\r\n",
        "    ax[i%5].axis(False)\r\n",
        "'''"
      ],
      "outputs": [],
      "metadata": {
        "execution": {
          "iopub.status.busy": "2021-10-03T15:34:26.046861Z",
          "iopub.execute_input": "2021-10-03T15:34:26.047158Z",
          "iopub.status.idle": "2021-10-03T15:34:26.059252Z",
          "shell.execute_reply.started": "2021-10-03T15:34:26.047129Z",
          "shell.execute_reply": "2021-10-03T15:34:26.058313Z"
        },
        "trusted": true,
        "id": "jK53Zs0F0EC4"
      }
    },
    {
      "cell_type": "code",
      "execution_count": null,
      "source": [
        "model = tf.keras.Sequential([\r\n",
        "    tf.keras.layers.Conv2D(32, (3,3), activation='relu',\r\n",
        "                input_shape=(150, 150, 3), padding='same'),\r\n",
        "    tf.keras.layers.MaxPooling2D(2, 2),\r\n",
        "    tf.keras.layers.Dropout(0.3),\r\n",
        "    \r\n",
        "    \r\n",
        "    tf.keras.layers.Conv2D(64, (3,3), activation='relu',\r\n",
        "                input_shape=(150, 150, 3), padding='same'),\r\n",
        "    tf.keras.layers.MaxPooling2D(2, 2),\r\n",
        "    tf.keras.layers.Dropout(0.3),\r\n",
        "    \r\n",
        "    tf.keras.layers.Conv2D(128, (3,3), activation='relu', padding='same'),\r\n",
        "    tf.keras.layers.MaxPooling2D(2, 2),\r\n",
        "    tf.keras.layers.Dropout(0.3),\r\n",
        "    \r\n",
        "    tf.keras.layers.Conv2D(256, (3,3), activation='relu', padding='same'),\r\n",
        "    tf.keras.layers.MaxPooling2D(2, 2),\r\n",
        "    tf.keras.layers.Dropout(0.3),\r\n",
        "    \r\n",
        "    tf.keras.layers.Conv2D(512, (3,3), activation='relu', padding='same'),\r\n",
        "    tf.keras.layers.MaxPooling2D(2, 2),\r\n",
        "    tf.keras.layers.Dropout(0.3),\r\n",
        "        \r\n",
        "    tf.keras.layers.Conv2D(512, (3,3), activation='relu', padding='same'),\r\n",
        "    tf.keras.layers.MaxPooling2D(2, 2),\r\n",
        "    tf.keras.layers.Dropout(0.3),\r\n",
        "    \r\n",
        "    tf.keras.layers.Flatten(),\r\n",
        "    tf.keras.layers.Dense(1024, activation='relu'),\r\n",
        "    tf.keras.layers.Dropout(0.5),\r\n",
        "\r\n",
        "    tf.keras.layers.Dense(512, activation='relu'),\r\n",
        "    tf.keras.layers.Dropout(0.5),\r\n",
        "    \r\n",
        "    tf.keras.layers.Dense(25, activation='softmax')     #25 classes\r\n",
        "])\r\n",
        "\r\n",
        "model.compile(loss = 'categorical_crossentropy', optimizer='adam', \r\n",
        "              metrics=['accuracy'])"
      ],
      "outputs": [],
      "metadata": {
        "execution": {
          "iopub.status.busy": "2021-10-03T15:34:47.729406Z",
          "iopub.execute_input": "2021-10-03T15:34:47.730332Z",
          "iopub.status.idle": "2021-10-03T15:34:47.985201Z",
          "shell.execute_reply.started": "2021-10-03T15:34:47.730293Z",
          "shell.execute_reply": "2021-10-03T15:34:47.984247Z"
        },
        "trusted": true,
        "id": "7nvl0CWk0EC5"
      }
    },
    {
      "cell_type": "code",
      "execution_count": 2,
      "source": [
        "model.summary()"
      ],
      "outputs": [
        {
          "output_type": "error",
          "ename": "NameError",
          "evalue": "name 'model' is not defined",
          "traceback": [
            "\u001b[1;31m---------------------------------------------------------------------------\u001b[0m",
            "\u001b[1;31mNameError\u001b[0m                                 Traceback (most recent call last)",
            "\u001b[1;32m~\\AppData\\Local\\Temp/ipykernel_63660/3470139634.py\u001b[0m in \u001b[0;36m<module>\u001b[1;34m\u001b[0m\n\u001b[1;32m----> 1\u001b[1;33m \u001b[0mmodel\u001b[0m\u001b[1;33m.\u001b[0m\u001b[0msummary\u001b[0m\u001b[1;33m(\u001b[0m\u001b[1;33m)\u001b[0m\u001b[1;33m\u001b[0m\u001b[1;33m\u001b[0m\u001b[0m\n\u001b[0m",
            "\u001b[1;31mNameError\u001b[0m: name 'model' is not defined"
          ]
        }
      ],
      "metadata": {
        "execution": {
          "iopub.status.busy": "2021-10-03T15:34:52.128516Z",
          "iopub.execute_input": "2021-10-03T15:34:52.129366Z",
          "iopub.status.idle": "2021-10-03T15:34:52.145014Z",
          "shell.execute_reply.started": "2021-10-03T15:34:52.129320Z",
          "shell.execute_reply": "2021-10-03T15:34:52.144346Z"
        },
        "trusted": true,
        "id": "dyabzSqA0EC5"
      }
    },
    {
      "cell_type": "code",
      "execution_count": null,
      "source": [
        "steps, val_steps = train_gen.n/batch_size, val_gen.n/batch_size\r\n",
        "num_epochs = 5"
      ],
      "outputs": [],
      "metadata": {
        "execution": {
          "iopub.status.busy": "2021-10-03T15:34:56.856745Z",
          "iopub.execute_input": "2021-10-03T15:34:56.857589Z",
          "iopub.status.idle": "2021-10-03T15:34:56.862209Z",
          "shell.execute_reply.started": "2021-10-03T15:34:56.857539Z",
          "shell.execute_reply": "2021-10-03T15:34:56.861461Z"
        },
        "trusted": true,
        "id": "cxhvQv6V0EC6"
      }
    },
    {
      "cell_type": "code",
      "execution_count": 3,
      "source": [
        "history = model.fit(train_gen, validation_data=val_gen, epochs=num_epochs, steps_per_epoch=steps, validation_steps=val_steps)"
      ],
      "outputs": [
        {
          "output_type": "error",
          "ename": "NameError",
          "evalue": "name 'model' is not defined",
          "traceback": [
            "\u001b[1;31m---------------------------------------------------------------------------\u001b[0m",
            "\u001b[1;31mNameError\u001b[0m                                 Traceback (most recent call last)",
            "\u001b[1;32m~\\AppData\\Local\\Temp/ipykernel_63660/746028616.py\u001b[0m in \u001b[0;36m<module>\u001b[1;34m\u001b[0m\n\u001b[1;32m----> 1\u001b[1;33m \u001b[0mhistory\u001b[0m \u001b[1;33m=\u001b[0m \u001b[0mmodel\u001b[0m\u001b[1;33m.\u001b[0m\u001b[0mfit\u001b[0m\u001b[1;33m(\u001b[0m\u001b[0mtrain_gen\u001b[0m\u001b[1;33m,\u001b[0m \u001b[0mvalidation_data\u001b[0m\u001b[1;33m=\u001b[0m\u001b[0mval_gen\u001b[0m\u001b[1;33m,\u001b[0m \u001b[0mepochs\u001b[0m\u001b[1;33m=\u001b[0m\u001b[0mnum_epochs\u001b[0m\u001b[1;33m,\u001b[0m \u001b[0msteps_per_epoch\u001b[0m\u001b[1;33m=\u001b[0m\u001b[0msteps\u001b[0m\u001b[1;33m,\u001b[0m \u001b[0mvalidation_steps\u001b[0m\u001b[1;33m=\u001b[0m\u001b[0mval_steps\u001b[0m\u001b[1;33m)\u001b[0m\u001b[1;33m\u001b[0m\u001b[1;33m\u001b[0m\u001b[0m\n\u001b[0m",
            "\u001b[1;31mNameError\u001b[0m: name 'model' is not defined"
          ]
        }
      ],
      "metadata": {
        "execution": {
          "iopub.status.busy": "2021-10-03T05:55:02.373524Z",
          "iopub.execute_input": "2021-10-03T05:55:02.373778Z"
        },
        "trusted": true,
        "id": "tx08Iahn0EC6"
      }
    },
    {
      "cell_type": "code",
      "execution_count": null,
      "source": [
        "acc = history.history['accuracy']\r\n",
        "val_acc = history.history['val_accuracy']\r\n",
        "\r\n",
        "epochs = range(len(acc))\r\n",
        "\r\n",
        "plt.plot(epochs, acc, 'r', label='Training accuracy')\r\n",
        "plt.plot(epochs, val_acc, 'b', label='Validation accuracy')\r\n",
        "\r\n",
        "plt.xlabel('Epochs')\r\n",
        "plt.ylabel('Accuracy')\r\n",
        "plt.title('Training and validation accuracy')\r\n",
        "plt.legend(loc=4)\r\n",
        "plt.grid(axis='both')\r\n",
        "\r\n",
        "plt.show() "
      ],
      "outputs": [],
      "metadata": {
        "trusted": true,
        "id": "RKElfVA90EC7"
      }
    }
  ]
}