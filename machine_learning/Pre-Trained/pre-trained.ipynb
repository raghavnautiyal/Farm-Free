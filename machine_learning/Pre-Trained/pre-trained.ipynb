{
 "cells": [
  {
   "cell_type": "code",
   "execution_count": 10,
   "source": [
    "import pickle"
   ],
   "outputs": [],
   "metadata": {}
  },
  {
   "cell_type": "code",
   "execution_count": null,
   "source": [
    "MODEL = \"C:\\\\Users\\Kevin Yang\\\\Make\\Hackathons\\\\NASA_SPACE_APPS_2021\\\\Farm-Free\\\\machine_learning\\\\Pre-Trained\\\\resnet50_0.497.pkl\""
   ],
   "outputs": [],
   "metadata": {}
  },
  {
   "cell_type": "code",
   "execution_count": null,
   "source": [
    "with open(MODEL, 'rb') as f:\r\n",
    "    line = f.readlines()\r\n",
    "    print(line)"
   ],
   "outputs": [],
   "metadata": {}
  },
  {
   "cell_type": "code",
   "execution_count": 11,
   "source": [
    "pickle_off = open(MODEL,\"rb\")\r\n",
    "resnet = pickle.load(pickle_off)\r\n",
    "print(resnet)"
   ],
   "outputs": [
    {
     "output_type": "stream",
     "name": "stdout",
     "text": [
      "119547037146038801333356\n"
     ]
    }
   ],
   "metadata": {}
  },
  {
   "cell_type": "code",
   "execution_count": null,
   "source": [
    "result = resnet.score(X_test, Y_test)"
   ],
   "outputs": [],
   "metadata": {}
  }
 ],
 "metadata": {
  "orig_nbformat": 4,
  "language_info": {
   "name": "python",
   "version": "3.9.5",
   "mimetype": "text/x-python",
   "codemirror_mode": {
    "name": "ipython",
    "version": 3
   },
   "pygments_lexer": "ipython3",
   "nbconvert_exporter": "python",
   "file_extension": ".py"
  },
  "kernelspec": {
   "name": "python3",
   "display_name": "Python 3.9.5 64-bit ('Voryx': conda)"
  },
  "interpreter": {
   "hash": "085fe8ee4cd864f6a655bcdbadb4bff65bd482c8187acb71c1d145b32f3f5ff9"
  }
 },
 "nbformat": 4,
 "nbformat_minor": 2
}